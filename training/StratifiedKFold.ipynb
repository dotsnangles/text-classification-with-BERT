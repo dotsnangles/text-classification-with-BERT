{
  "nbformat": 4,
  "nbformat_minor": 0,
  "metadata": {
    "colab": {
      "name": "StratifiedKFold.ipynb",
      "provenance": [],
      "collapsed_sections": [],
      "authorship_tag": "ABX9TyMrZDugQXQ9DQRCGWQOtz3n",
      "include_colab_link": true
    },
    "kernelspec": {
      "name": "python3",
      "display_name": "Python 3"
    },
    "language_info": {
      "name": "python"
    }
  },
  "cells": [
    {
      "cell_type": "markdown",
      "metadata": {
        "id": "view-in-github",
        "colab_type": "text"
      },
      "source": [
        "<a href=\"https://colab.research.google.com/github/dotsnangles/Transformers-Text-Classification/blob/main/StratifiedKFold.ipynb\" target=\"_parent\"><img src=\"https://colab.research.google.com/assets/colab-badge.svg\" alt=\"Open In Colab\"/></a>"
      ]
    },
    {
      "cell_type": "code",
      "source": [
        "!pip install folium\n",
        "!pip install transformers\n",
        "!pip install datasets"
      ],
      "metadata": {
        "id": "bxuxxkHK-yZR"
      },
      "execution_count": null,
      "outputs": []
    },
    {
      "cell_type": "code",
      "execution_count": 140,
      "metadata": {
        "id": "W7smTM9KuRib"
      },
      "outputs": [],
      "source": [
        "from sklearn.model_selection import StratifiedKFold\n",
        "import pandas as pd\n",
        "import datasets"
      ]
    },
    {
      "cell_type": "code",
      "source": [
        "!gdown -q 1K0v7liLb4ls5NMZrvrsEFQCfGqGduBSN"
      ],
      "metadata": {
        "id": "PPDtRDmtIyZa"
      },
      "execution_count": null,
      "outputs": []
    },
    {
      "cell_type": "code",
      "source": [
        "df = pd.read_csv('/content/augmented_dataset.csv', index_col=False)\n",
        "df = df.drop(['Unnamed: 0'], axis=1)\n",
        "df.reset_index(inplace=True)"
      ],
      "metadata": {
        "id": "JfzDkmnz96dM"
      },
      "execution_count": 141,
      "outputs": []
    },
    {
      "cell_type": "code",
      "source": [
        "X, y = df['title'], df['topic_idx']"
      ],
      "metadata": {
        "id": "6a-8nemD4bKO"
      },
      "execution_count": 151,
      "outputs": []
    },
    {
      "cell_type": "code",
      "source": [
        "skf = StratifiedKFold(n_splits=5, shuffle=True, random_state=100)"
      ],
      "metadata": {
        "id": "wtmG7e0WxkLe"
      },
      "execution_count": 152,
      "outputs": []
    },
    {
      "cell_type": "code",
      "source": [
        "splitgen = skf.split(X, y)"
      ],
      "metadata": {
        "id": "Xd9DlULl1WBM"
      },
      "execution_count": 153,
      "outputs": []
    },
    {
      "cell_type": "code",
      "source": [
        "for train_index, test_index in splitgen:\n",
        "    X_train, X_test = X[train_index], X[test_index]\n",
        "    y_train, y_test = y[train_index], y[test_index]\n",
        "    \n",
        "    train = {\n",
        "        'title': X_train.to_list(),\n",
        "        'topic_idx': y_train.to_list()\n",
        "    }\n",
        "    test =  {\n",
        "        'title': X_test.to_list(),\n",
        "        'topic_idx': y_test.to_list()\n",
        "    }\n",
        "    train = datasets.Dataset.from_dict(train)\n",
        "    test = datasets.Dataset.from_dict(test)\n",
        "\n",
        "\n",
        "\n",
        "    "
      ],
      "metadata": {
        "colab": {
          "base_uri": "https://localhost:8080/"
        },
        "id": "k8_3IkU24mf7",
        "outputId": "27f3fdff-0bd1-4bb0-a113-854aa8ce0bc9"
      },
      "execution_count": 157,
      "outputs": [
        {
          "output_type": "stream",
          "name": "stdout",
          "text": [
            "Dataset({\n",
            "    features: ['title', 'topic_idx'],\n",
            "    num_rows: 84319\n",
            "})\n",
            "Dataset({\n",
            "    features: ['title', 'topic_idx'],\n",
            "    num_rows: 21080\n",
            "})\n"
          ]
        }
      ]
    },
    {
      "cell_type": "code",
      "source": [
        "train"
      ],
      "metadata": {
        "colab": {
          "base_uri": "https://localhost:8080/"
        },
        "id": "HRfhSccKBfVF",
        "outputId": "af6ab179-1667-4bb5-db05-f7f8a8fc4174"
      },
      "execution_count": 160,
      "outputs": [
        {
          "output_type": "execute_result",
          "data": {
            "text/plain": [
              "Dataset({\n",
              "    features: ['title', 'topic_idx'],\n",
              "    num_rows: 84319\n",
              "})"
            ]
          },
          "metadata": {},
          "execution_count": 160
        }
      ]
    },
    {
      "cell_type": "code",
      "source": [
        ""
      ],
      "metadata": {
        "id": "6EZgcgXmHqmy"
      },
      "execution_count": null,
      "outputs": []
    }
  ]
}
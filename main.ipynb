{
  "nbformat": 4,
  "nbformat_minor": 0,
  "metadata": {
    "colab": {
      "name": "main.ipynb",
      "provenance": [],
      "collapsed_sections": [],
      "machine_shape": "hm",
      "authorship_tag": "ABX9TyN+YdiF+NM9WPFLCnr9DPKu",
      "include_colab_link": true
    },
    "kernelspec": {
      "name": "python3",
      "display_name": "Python 3"
    },
    "language_info": {
      "name": "python"
    },
    "accelerator": "GPU",
    "widgets": {
      "application/vnd.jupyter.widget-state+json": {}
    }
  },
  "cells": [
    {
      "cell_type": "markdown",
      "metadata": {
        "id": "view-in-github",
        "colab_type": "text"
      },
      "source": [
        "<a href=\"https://colab.research.google.com/github/dotsnangles/Transformers-Text-Classification/blob/main/main.ipynb\" target=\"_parent\"><img src=\"https://colab.research.google.com/assets/colab-badge.svg\" alt=\"Open In Colab\"/></a>"
      ]
    },
    {
      "cell_type": "code",
      "source": [
        "!pip install -q folium\n",
        "!pip install -q transformers\n",
        "!pip install -q datasets\n",
        "!pip install -q huggingface_hub"
      ],
      "metadata": {
        "colab": {
          "base_uri": "https://localhost:8080/"
        },
        "id": "bxuxxkHK-yZR",
        "outputId": "9676a4ff-0fb0-4b7b-bc22-28a6514ceac3"
      },
      "execution_count": 1,
      "outputs": [
        {
          "output_type": "stream",
          "name": "stdout",
          "text": [
            "\u001b[K     |████████████████████████████████| 4.2 MB 4.2 MB/s \n",
            "\u001b[K     |████████████████████████████████| 596 kB 60.9 MB/s \n",
            "\u001b[K     |████████████████████████████████| 86 kB 5.8 MB/s \n",
            "\u001b[K     |████████████████████████████████| 6.6 MB 51.4 MB/s \n",
            "\u001b[K     |████████████████████████████████| 346 kB 4.3 MB/s \n",
            "\u001b[K     |████████████████████████████████| 1.1 MB 45.3 MB/s \n",
            "\u001b[K     |████████████████████████████████| 212 kB 56.7 MB/s \n",
            "\u001b[K     |████████████████████████████████| 140 kB 75.1 MB/s \n",
            "\u001b[K     |████████████████████████████████| 86 kB 5.2 MB/s \n",
            "\u001b[K     |████████████████████████████████| 127 kB 49.4 MB/s \n",
            "\u001b[K     |████████████████████████████████| 271 kB 57.8 MB/s \n",
            "\u001b[K     |████████████████████████████████| 94 kB 3.6 MB/s \n",
            "\u001b[K     |████████████████████████████████| 144 kB 92.0 MB/s \n",
            "\u001b[K     |████████████████████████████████| 112 kB 75.4 MB/s \n",
            "\u001b[31mERROR: pip's dependency resolver does not currently take into account all the packages that are installed. This behaviour is the source of the following dependency conflicts.\n",
            "datascience 0.10.6 requires folium==0.2.1, but you have folium 0.8.3 which is incompatible.\u001b[0m\n",
            "\u001b[?25h"
          ]
        }
      ]
    },
    {
      "cell_type": "code",
      "execution_count": 2,
      "metadata": {
        "id": "W7smTM9KuRib"
      },
      "outputs": [],
      "source": [
        "from transformers import AutoModelForSequenceClassification, AutoTokenizer, Trainer, TrainingArguments, DataCollatorWithPadding\n",
        "import datasets\n",
        "\n",
        "from huggingface_hub import notebook_login\n",
        "\n",
        "from sklearn.metrics import accuracy_score, f1_score\n",
        "from sklearn.model_selection import StratifiedKFold\n",
        "\n",
        "import pandas as pd\n",
        "import numpy as np"
      ]
    },
    {
      "cell_type": "code",
      "source": [
        "# notebook_login()"
      ],
      "metadata": {
        "id": "ZiN31EEcrdf-"
      },
      "execution_count": 3,
      "outputs": []
    },
    {
      "cell_type": "markdown",
      "source": [
        "xlm-roberta-base\n",
        "\n",
        "klue/roberta-base\n",
        "\n",
        "bert-base-multilingual-uncased"
      ],
      "metadata": {
        "id": "9rPo_iFScIAp"
      }
    },
    {
      "cell_type": "markdown",
      "source": [
        "모델 3개\n",
        "모델 당 케이폴드 5"
      ],
      "metadata": {
        "id": "bXT6Oa1ntFXq"
      }
    },
    {
      "cell_type": "markdown",
      "source": [
        "### Data Load & K-Fold Interator Instantiation"
      ],
      "metadata": {
        "id": "ed7ALEdpth7Y"
      }
    },
    {
      "cell_type": "code",
      "source": [
        "!gdown -q 1K0v7liLb4ls5NMZrvrsEFQCfGqGduBSN"
      ],
      "metadata": {
        "id": "PPDtRDmtIyZa"
      },
      "execution_count": 4,
      "outputs": []
    },
    {
      "cell_type": "code",
      "source": [
        "# df = pd.read_csv('/content/augmented_dataset.csv', index_col=False)\n",
        "# df = df.drop(['Unnamed: 0'], axis=1)\n",
        "# df.reset_index(inplace=True)\n",
        "# X, y = df['title'], df['topic_idx']\n",
        "# skf = StratifiedKFold(n_splits=5, shuffle=True, random_state=100)\n",
        "# splitgen = skf.split(X, y)"
      ],
      "metadata": {
        "id": "JfzDkmnz96dM"
      },
      "execution_count": 5,
      "outputs": []
    },
    {
      "cell_type": "markdown",
      "source": [
        "### Global Configration"
      ],
      "metadata": {
        "id": "j5V-RR3dtpXw"
      }
    },
    {
      "cell_type": "code",
      "source": [
        "num_labels = 7"
      ],
      "metadata": {
        "id": "YmtP8AATaUQz"
      },
      "execution_count": 6,
      "outputs": []
    },
    {
      "cell_type": "code",
      "source": [
        "models = ['xlm-roberta-base', 'klue/roberta-base', 'bert-base-multilingual-uncased']"
      ],
      "metadata": {
        "id": "jfc0jqYLsiIQ"
      },
      "execution_count": 7,
      "outputs": []
    },
    {
      "cell_type": "code",
      "source": [
        "data_path = '/content/train_data.csv'"
      ],
      "metadata": {
        "id": "_DNg_b_NGGVv"
      },
      "execution_count": 13,
      "outputs": []
    },
    {
      "cell_type": "code",
      "source": [
        "batch_size = 8\n",
        "num_train_epochs = 1"
      ],
      "metadata": {
        "id": "tUzABQkwaw1T"
      },
      "execution_count": 8,
      "outputs": []
    },
    {
      "cell_type": "markdown",
      "source": [
        "### Function Declaration"
      ],
      "metadata": {
        "id": "kIULmV_Wt3ni"
      }
    },
    {
      "cell_type": "code",
      "source": [
        "def compute_metrics(pred):\n",
        "    labels = pred.label_ids\n",
        "    preds = pred.predictions.argmax(-1)\n",
        "    f1 = f1_score(labels, preds, average=\"weighted\")\n",
        "    acc = accuracy_score(labels, preds)\n",
        "    return {\"accuracy\": acc, \"f1\": f1}"
      ],
      "metadata": {
        "id": "OAOX1u9oaA42"
      },
      "execution_count": 9,
      "outputs": []
    },
    {
      "cell_type": "code",
      "source": [
        "def tokenize(batch):\n",
        "    return tokenizer(batch[\"title\"], padding=True, truncation=True)"
      ],
      "metadata": {
        "id": "qURegud7bOHR"
      },
      "execution_count": 10,
      "outputs": []
    },
    {
      "cell_type": "markdown",
      "source": [
        "### Fine Tuning and Model Saving"
      ],
      "metadata": {
        "id": "OudjT6OHt82u"
      }
    },
    {
      "cell_type": "code",
      "source": [
        "for model_n in models:\n",
        "    # Load Model & Tokenizer\n",
        "    model_ckpt = model_n\n",
        "\n",
        "    # Load Data & Prepare K-Fold\n",
        "    df = pd.read_csv(data_path, index_col=False)\n",
        "    df = df.drop(['Unnamed: 0'], axis=1)\n",
        "    df.reset_index(inplace=True)\n",
        "    X, y = df['title'], df['topic_idx']\n",
        "    skf = StratifiedKFold(n_splits=5, shuffle=True, random_state=100)\n",
        "    splitgen = skf.split(X, y)\n",
        "\n",
        "    foldNum = 1\n",
        "    for train_index, test_index in splitgen:\n",
        "        # Model instantiation\n",
        "        model = AutoModelForSequenceClassification.from_pretrained(model_ckpt, num_labels=num_labels,)\n",
        "        tokenizer = AutoTokenizer.from_pretrained(model_ckpt)\n",
        "        data_collator = DataCollatorWithPadding(tokenizer=tokenizer)\n",
        "\n",
        "        # Tokenization\n",
        "        X_train, X_test = X[train_index], X[test_index]\n",
        "        y_train, y_test = y[train_index], y[test_index]\n",
        "        \n",
        "        train = {\n",
        "            'title': X_train.to_list(),\n",
        "            'topic_idx': y_train.to_list()\n",
        "        }\n",
        "        test =  {\n",
        "            'title': X_test.to_list(),\n",
        "            'topic_idx': y_test.to_list()\n",
        "        }\n",
        "        train = datasets.Dataset.from_dict(train)\n",
        "        train_encoded = train.map(tokenize, batched=True, batch_size=None)\n",
        "        train_encoded = train_encoded.rename_column('topic_idx', 'label')\n",
        "\n",
        "        test = datasets.Dataset.from_dict(test)\n",
        "        test_encoded = test.map(tokenize, batched=True, batch_size=None)\n",
        "        test_encoded = test_encoded.rename_column('topic_idx', 'label')\n",
        "\n",
        "        # Training \n",
        "        logging_steps = len(train_encoded) // batch_size\n",
        "        model_ckpt = model_ckpt.replace('/', '-')\n",
        "        model_name = f\"{model_ckpt}-tc-{foldNum}\"\n",
        "        training_args = TrainingArguments(output_dir=model_name,\n",
        "                                            num_train_epochs=num_train_epochs,\n",
        "                                            learning_rate=2e-5,\n",
        "                                            per_device_train_batch_size=batch_size,\n",
        "                                            per_device_eval_batch_size=batch_size,\n",
        "                                            weight_decay=0.01,\n",
        "                                            evaluation_strategy=\"epoch\",\n",
        "                                            disable_tqdm=False,\n",
        "                                            logging_steps=logging_steps,\n",
        "                                            push_to_hub=False,\n",
        "                                            log_level=\"error\")\n",
        "\n",
        "        trainer = Trainer(model=model, args=training_args,\n",
        "                    compute_metrics=compute_metrics,\n",
        "                    train_dataset=train_encoded,\n",
        "                    eval_dataset=test_encoded,\n",
        "                    tokenizer=tokenizer,\n",
        "                    data_collator=data_collator)\n",
        "        trainer.train()\n",
        "\n",
        "        tokenizer.save_pretrained('/saved')\n",
        "        model.save_pretrained('/saved')\n",
        "\n",
        "        foldNum += 1"
      ],
      "metadata": {
        "colab": {
          "base_uri": "https://localhost:8080/",
          "height": 235
        },
        "id": "gODb2sJotLz7",
        "outputId": "3206e05f-d4bf-49c7-9e35-ec4b9b570132"
      },
      "execution_count": 12,
      "outputs": [
        {
          "output_type": "error",
          "ename": "NameError",
          "evalue": "ignored",
          "traceback": [
            "\u001b[0;31m---------------------------------------------------------------------------\u001b[0m",
            "\u001b[0;31mNameError\u001b[0m                                 Traceback (most recent call last)",
            "\u001b[0;32m<ipython-input-12-4515a947429d>\u001b[0m in \u001b[0;36m<module>\u001b[0;34m()\u001b[0m\n\u001b[1;32m      4\u001b[0m \u001b[0;34m\u001b[0m\u001b[0m\n\u001b[1;32m      5\u001b[0m     \u001b[0;31m# Load Data & Prepare K-Fold\u001b[0m\u001b[0;34m\u001b[0m\u001b[0;34m\u001b[0m\u001b[0;34m\u001b[0m\u001b[0m\n\u001b[0;32m----> 6\u001b[0;31m     \u001b[0mdf\u001b[0m \u001b[0;34m=\u001b[0m \u001b[0mpd\u001b[0m\u001b[0;34m.\u001b[0m\u001b[0mread_csv\u001b[0m\u001b[0;34m(\u001b[0m\u001b[0mdata_path\u001b[0m\u001b[0;34m,\u001b[0m \u001b[0mindex_col\u001b[0m\u001b[0;34m=\u001b[0m\u001b[0;32mFalse\u001b[0m\u001b[0;34m)\u001b[0m\u001b[0;34m\u001b[0m\u001b[0;34m\u001b[0m\u001b[0m\n\u001b[0m\u001b[1;32m      7\u001b[0m     \u001b[0mdf\u001b[0m \u001b[0;34m=\u001b[0m \u001b[0mdf\u001b[0m\u001b[0;34m.\u001b[0m\u001b[0mdrop\u001b[0m\u001b[0;34m(\u001b[0m\u001b[0;34m[\u001b[0m\u001b[0;34m'Unnamed: 0'\u001b[0m\u001b[0;34m]\u001b[0m\u001b[0;34m,\u001b[0m \u001b[0maxis\u001b[0m\u001b[0;34m=\u001b[0m\u001b[0;36m1\u001b[0m\u001b[0;34m)\u001b[0m\u001b[0;34m\u001b[0m\u001b[0;34m\u001b[0m\u001b[0m\n\u001b[1;32m      8\u001b[0m     \u001b[0mdf\u001b[0m\u001b[0;34m.\u001b[0m\u001b[0mreset_index\u001b[0m\u001b[0;34m(\u001b[0m\u001b[0minplace\u001b[0m\u001b[0;34m=\u001b[0m\u001b[0;32mTrue\u001b[0m\u001b[0;34m)\u001b[0m\u001b[0;34m\u001b[0m\u001b[0;34m\u001b[0m\u001b[0m\n",
            "\u001b[0;31mNameError\u001b[0m: name 'data_path' is not defined"
          ]
        }
      ]
    },
    {
      "cell_type": "code",
      "source": [
        "import gc\n",
        "gc.collect()"
      ],
      "metadata": {
        "colab": {
          "base_uri": "https://localhost:8080/"
        },
        "id": "OsBk0CfCDddM",
        "outputId": "05f239e3-f896-4ca4-a23b-d0cec62fdab6"
      },
      "execution_count": 16,
      "outputs": [
        {
          "output_type": "execute_result",
          "data": {
            "text/plain": [
              "1221"
            ]
          },
          "metadata": {},
          "execution_count": 16
        }
      ]
    },
    {
      "cell_type": "code",
      "source": [
        "data_test = datasets.load_dataset('csv', data_files='/content/test_data.csv')['train']"
      ],
      "metadata": {
        "colab": {
          "base_uri": "https://localhost:8080/",
          "height": 185,
          "referenced_widgets": [
            "a500cb6bf1fe4837ac08b26d4c5a28aa",
            "7721084e8096430a970deae975a27e1f",
            "6d98f5db5aec4bca8e831f6c6ac7ed4f",
            "20297089add54bbe89e1166f9d50705f",
            "33a93f0557cc4f33b2806dca5f8a748c",
            "b03f971dcf664cb8b2e19475c749bd3c",
            "d67bd23d0d844598ab252b2a225b7214",
            "6715c06fb49f4ba79c6b644114b87fef",
            "926ecc7ece444269aec9947948748917",
            "f633a18c5eb8440ba643f5718d63ac8d",
            "33427a1ad5d54ce6bf8c1b4f2568da18",
            "ad674f6cba154d04bea9612be52654d0",
            "ca9f326dd8984d5fbb15859f372f4fa3",
            "17bf8c7afd0d43d59371aebab2d388f4",
            "3e673a5431784deda0024e338a0ded4b",
            "be21ec3b85bd4507bbacfa81da15e5d8",
            "9d22d125f0414dcba9198a69d88e21bf",
            "6e382246157c4c39b80acd4db8f1fc75",
            "b01a271b6a574ec7947400c501cf16d0",
            "5631dcd3f2344e89994e69c599eb10b4",
            "223ab5c4f0fb4fc3b6e9e27f1d425893",
            "88a75a553ac14c70bee39296aef48235",
            "f714a2755c344d2188c9f37174728640",
            "15db5c16a50542edbe1e53dc31296b47",
            "6b283f5a840d4afab715f839d7e1dacc",
            "765f075e78134f2a8d519063ea3507b0",
            "5e2dae4c5825417e84b69f33b27b95bb",
            "7c237cc9a6af487db197885ece89d69d",
            "11056fa8da5543739e5199013eb179ca",
            "1de84a0c5bca478d91c3f5f06989e276",
            "d275e84b73744d958d7ed21d5a94697f",
            "6757248d067c4bd2b90110c1f6a83a0f",
            "69c5e19dd1824ff684a5612af9eb23c3"
          ]
        },
        "id": "oKeOlxDFn0Yr",
        "outputId": "4eb43020-c074-4d83-ddce-b01a88a15505"
      },
      "execution_count": null,
      "outputs": [
        {
          "output_type": "stream",
          "name": "stderr",
          "text": [
            "Using custom data configuration default-4520c1e6af454092\n"
          ]
        },
        {
          "output_type": "stream",
          "name": "stdout",
          "text": [
            "Downloading and preparing dataset csv/default to /root/.cache/huggingface/datasets/csv/default-4520c1e6af454092/0.0.0/433e0ccc46f9880962cc2b12065189766fbb2bee57a221866138fb9203c83519...\n"
          ]
        },
        {
          "output_type": "display_data",
          "data": {
            "text/plain": [
              "Downloading data files:   0%|          | 0/1 [00:00<?, ?it/s]"
            ],
            "application/vnd.jupyter.widget-view+json": {
              "version_major": 2,
              "version_minor": 0,
              "model_id": "a500cb6bf1fe4837ac08b26d4c5a28aa"
            }
          },
          "metadata": {}
        },
        {
          "output_type": "display_data",
          "data": {
            "text/plain": [
              "Extracting data files:   0%|          | 0/1 [00:00<?, ?it/s]"
            ],
            "application/vnd.jupyter.widget-view+json": {
              "version_major": 2,
              "version_minor": 0,
              "model_id": "ad674f6cba154d04bea9612be52654d0"
            }
          },
          "metadata": {}
        },
        {
          "output_type": "stream",
          "name": "stdout",
          "text": [
            "Dataset csv downloaded and prepared to /root/.cache/huggingface/datasets/csv/default-4520c1e6af454092/0.0.0/433e0ccc46f9880962cc2b12065189766fbb2bee57a221866138fb9203c83519. Subsequent calls will reuse this data.\n"
          ]
        },
        {
          "output_type": "display_data",
          "data": {
            "text/plain": [
              "  0%|          | 0/1 [00:00<?, ?it/s]"
            ],
            "application/vnd.jupyter.widget-view+json": {
              "version_major": 2,
              "version_minor": 0,
              "model_id": "f714a2755c344d2188c9f37174728640"
            }
          },
          "metadata": {}
        }
      ]
    },
    {
      "cell_type": "code",
      "source": [
        "data_test = data_test.remove_columns('index')"
      ],
      "metadata": {
        "id": "E2qUozWIvlNh"
      },
      "execution_count": null,
      "outputs": []
    },
    {
      "cell_type": "code",
      "source": [
        "encoded_test = data_test.map(tokenize, batched=True, batch_size=None)"
      ],
      "metadata": {
        "colab": {
          "base_uri": "https://localhost:8080/",
          "height": 49,
          "referenced_widgets": [
            "e25674337f0b4c498485e70c8f7e021f",
            "f1f8c09a07244fc99cc3c4aa6614f0f9",
            "68c1ba2f5b024c1a9a2a02001591102f",
            "bbb9e4880b074f00a03fb156832a702f",
            "e2a1f70782564d99b04e883ead723a04",
            "cc020a4a06ae4aa8a7551984a8c8b83f",
            "896735b0635a4afaa9da1b8363606335",
            "9e6ba0525afa4255adaac254bbd4ee23",
            "0c5fdf0333c147c090f83014add12ac9",
            "585bc6af43674ce8a557c09da3876e3f",
            "e5f8e0be0656425a857402e07e1d207a"
          ]
        },
        "id": "qeBqYEjJvmU0",
        "outputId": "a3355796-3b77-44e4-86ba-666a3ba8ffe7"
      },
      "execution_count": null,
      "outputs": [
        {
          "output_type": "display_data",
          "data": {
            "text/plain": [
              "  0%|          | 0/1 [00:00<?, ?ba/s]"
            ],
            "application/vnd.jupyter.widget-view+json": {
              "version_major": 2,
              "version_minor": 0,
              "model_id": "e25674337f0b4c498485e70c8f7e021f"
            }
          },
          "metadata": {}
        }
      ]
    },
    {
      "cell_type": "code",
      "source": [
        "encoded_test"
      ],
      "metadata": {
        "colab": {
          "base_uri": "https://localhost:8080/"
        },
        "id": "nX6XFa7byYI7",
        "outputId": "4941e50f-0b83-43f7-b699-17c89422c8b3"
      },
      "execution_count": null,
      "outputs": [
        {
          "output_type": "execute_result",
          "data": {
            "text/plain": [
              "Dataset({\n",
              "    features: ['title', 'input_ids', 'token_type_ids', 'attention_mask'],\n",
              "    num_rows: 9131\n",
              "})"
            ]
          },
          "metadata": {},
          "execution_count": 17
        }
      ]
    },
    {
      "cell_type": "code",
      "source": [
        "preds_output = trainer.predict(encoded_data['test'])"
      ],
      "metadata": {
        "colab": {
          "base_uri": "https://localhost:8080/",
          "height": 37
        },
        "id": "TF1hRx9cyjxS",
        "outputId": "0788ca5e-3ba5-4093-d806-556b3021d868"
      },
      "execution_count": null,
      "outputs": [
        {
          "output_type": "display_data",
          "data": {
            "text/plain": [
              "<IPython.core.display.HTML object>"
            ],
            "text/html": [
              "\n",
              "    <div>\n",
              "      \n",
              "      <progress value='143' max='143' style='width:300px; height:20px; vertical-align: middle;'></progress>\n",
              "      [143/143 00:05]\n",
              "    </div>\n",
              "    "
            ]
          },
          "metadata": {}
        }
      ]
    },
    {
      "cell_type": "code",
      "source": [
        "preds_output.metrics"
      ],
      "metadata": {
        "colab": {
          "base_uri": "https://localhost:8080/"
        },
        "id": "FoqXNrHpy9LT",
        "outputId": "e7aa3d7b-4558-42ab-c585-720aed2811fd"
      },
      "execution_count": null,
      "outputs": [
        {
          "output_type": "execute_result",
          "data": {
            "text/plain": [
              "{'test_accuracy': 0.8961778556565546,\n",
              " 'test_f1': 0.8955660509094702,\n",
              " 'test_loss': 0.31759849190711975,\n",
              " 'test_runtime': 5.4783,\n",
              " 'test_samples_per_second': 1666.753,\n",
              " 'test_steps_per_second': 26.103}"
            ]
          },
          "metadata": {},
          "execution_count": 19
        }
      ]
    },
    {
      "cell_type": "code",
      "source": [
        ""
      ],
      "metadata": {
        "id": "z7uDtuLRy--x"
      },
      "execution_count": null,
      "outputs": []
    }
  ]
}
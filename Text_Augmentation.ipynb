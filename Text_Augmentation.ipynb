{
  "nbformat": 4,
  "nbformat_minor": 0,
  "metadata": {
    "colab": {
      "name": "Text Augmentation.ipynb",
      "provenance": [],
      "collapsed_sections": [],
      "authorship_tag": "ABX9TyM6uuxgM69BUsUWieJnx7DZ",
      "include_colab_link": true
    },
    "kernelspec": {
      "name": "python3",
      "display_name": "Python 3"
    },
    "language_info": {
      "name": "python"
    }
  },
  "cells": [
    {
      "cell_type": "markdown",
      "metadata": {
        "id": "view-in-github",
        "colab_type": "text"
      },
      "source": [
        "<a href=\"https://colab.research.google.com/github/dotsnangles/Transformers-Text-Classification/blob/main/Text_Augmentation.ipynb\" target=\"_parent\"><img src=\"https://colab.research.google.com/assets/colab-badge.svg\" alt=\"Open In Colab\"/></a>"
      ]
    },
    {
      "cell_type": "code",
      "execution_count": 2,
      "metadata": {
        "id": "ZlUiqW0c6Rh7"
      },
      "outputs": [],
      "source": [
        "!pip install -q requests folium\n",
        "!pip install -q translators\n",
        "!pip install -q imbalanced-learn"
      ]
    },
    {
      "cell_type": "code",
      "source": [
        "import translators as ts\n",
        "import time\n",
        "papago = ts.papago"
      ],
      "metadata": {
        "id": "Hh6zkaAd6aIS"
      },
      "execution_count": 10,
      "outputs": []
    },
    {
      "cell_type": "code",
      "source": [
        "txt = '실리콘밸리 넘어서겠다…구글 15조원 들여 美전역 거점화'\n",
        "papago(txt)"
      ],
      "metadata": {
        "colab": {
          "base_uri": "https://localhost:8080/",
          "height": 36
        },
        "id": "cCPtGwWW_anr",
        "outputId": "d3e51788-a84b-4230-b9d4-32b2d41aab02"
      },
      "execution_count": 16,
      "outputs": [
        {
          "output_type": "execute_result",
          "data": {
            "text/plain": [
              "\"It's going to go beyond Silicon Valley.Google Spends 15 Trillion Won to Become a U.S. Global Base\""
            ],
            "application/vnd.google.colaboratory.intrinsic+json": {
              "type": "string"
            }
          },
          "metadata": {},
          "execution_count": 16
        }
      ]
    },
    {
      "cell_type": "code",
      "source": [
        "t0 = time.time()\n",
        "ko2en = papago(txt, from_language='ko', to_language='en')\n",
        "result = papago(ko2en, from_language='en', to_language='ko')\n",
        "print(result)\n",
        "t1 = time.time()\n",
        "print(t1-t0)"
      ],
      "metadata": {
        "colab": {
          "base_uri": "https://localhost:8080/"
        },
        "id": "p61X363p_oVE",
        "outputId": "0c674f90-38af-4d8e-c69a-707ec9fc36f8"
      },
      "execution_count": 17,
      "outputs": [
        {
          "output_type": "stream",
          "name": "stdout",
          "text": [
            "실리콘 밸리를 넘어서게 될 것입니다.구글, 미국의 글로벌 기지가 되기 위해 15조원을 지출하다\n",
            "3.3194217681884766\n"
          ]
        }
      ]
    },
    {
      "cell_type": "code",
      "source": [
        ""
      ],
      "metadata": {
        "id": "LixEoBJaAf4a"
      },
      "execution_count": 17,
      "outputs": []
    }
  ]
}
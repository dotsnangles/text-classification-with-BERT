{
  "nbformat": 4,
  "nbformat_minor": 0,
  "metadata": {
    "colab": {
      "name": "Text Augmentation.ipynb",
      "provenance": [],
      "collapsed_sections": [],
      "authorship_tag": "ABX9TyPvkPRBmAbLJfbQA6YCyk/t",
      "include_colab_link": true
    },
    "kernelspec": {
      "name": "python3",
      "display_name": "Python 3"
    },
    "language_info": {
      "name": "python"
    }
  },
  "cells": [
    {
      "cell_type": "markdown",
      "metadata": {
        "id": "view-in-github",
        "colab_type": "text"
      },
      "source": [
        "<a href=\"https://colab.research.google.com/github/dotsnangles/Transformers-Text-Classification/blob/main/Text_Augmentation.ipynb\" target=\"_parent\"><img src=\"https://colab.research.google.com/assets/colab-badge.svg\" alt=\"Open In Colab\"/></a>"
      ]
    },
    {
      "cell_type": "code",
      "execution_count": 2,
      "metadata": {
        "id": "ZlUiqW0c6Rh7"
      },
      "outputs": [],
      "source": [
        "!pip install -q requests folium\n",
        "!pip install -q translators\n",
        "!pip install -q imbalanced-learn"
      ]
    },
    {
      "cell_type": "code",
      "source": [
        "import translators as ts\n",
        "import time\n",
        "papago = ts.papago"
      ],
      "metadata": {
        "id": "Hh6zkaAd6aIS"
      },
      "execution_count": 10,
      "outputs": []
    },
    {
      "cell_type": "code",
      "source": [
        "txt = '실리콘밸리 넘어서겠다…구글 15조원 들여 미전역 거점화'\n",
        "papago(txt)"
      ],
      "metadata": {
        "colab": {
          "base_uri": "https://localhost:8080/",
          "height": 36
        },
        "id": "cCPtGwWW_anr",
        "outputId": "2f570458-9809-40c6-d3e8-1c7e47137adb"
      },
      "execution_count": 24,
      "outputs": [
        {
          "output_type": "execute_result",
          "data": {
            "text/plain": [
              "\"It's going to go beyond Silicon Valley.Google Spends 15 trillion won to Become a U.S. Military Base\""
            ],
            "application/vnd.google.colaboratory.intrinsic+json": {
              "type": "string"
            }
          },
          "metadata": {},
          "execution_count": 24
        }
      ]
    },
    {
      "cell_type": "code",
      "source": [
        "t0 = time.time()\n",
        "ko2en = papago(txt, from_language='ko', to_language='en')\n",
        "result = papago(ko2en, from_language='en', to_language='ko')\n",
        "print(result)\n",
        "t1 = time.time()\n",
        "print(t1-t0)"
      ],
      "metadata": {
        "colab": {
          "base_uri": "https://localhost:8080/"
        },
        "id": "p61X363p_oVE",
        "outputId": "f9351472-b78c-4910-cfef-07e70c4a470d"
      },
      "execution_count": 25,
      "outputs": [
        {
          "output_type": "stream",
          "name": "stdout",
          "text": [
            "실리콘 밸리를 넘어서게 될 것입니다.구글, 미군 기지가 되기 위해 15조원을 지출하다\n",
            "2.3750462532043457\n"
          ]
        }
      ]
    },
    {
      "cell_type": "code",
      "source": [
        "google = ts.google"
      ],
      "metadata": {
        "id": "LixEoBJaAf4a"
      },
      "execution_count": 26,
      "outputs": []
    },
    {
      "cell_type": "code",
      "source": [
        "t0 = time.time()\n",
        "ko2en = google(txt, from_language='ko', to_language='en')\n",
        "result = google(ko2en, from_language='en', to_language='ko')\n",
        "print(result)\n",
        "t1 = time.time()\n",
        "print(t1-t0)"
      ],
      "metadata": {
        "colab": {
          "base_uri": "https://localhost:8080/"
        },
        "id": "sL8YUEYwCVJe",
        "outputId": "66791fe4-e673-4adb-a4c0-8f23e5b7ffa7"
      },
      "execution_count": 27,
      "outputs": [
        {
          "output_type": "stream",
          "name": "stdout",
          "text": [
            "실리콘 밸리가 끝날 것입니다… Google 15 조는 대학에서 보냈습니다.\n",
            "3.345306396484375\n"
          ]
        }
      ]
    },
    {
      "cell_type": "code",
      "source": [
        "bing = ts.bing"
      ],
      "metadata": {
        "id": "y1jGX5iuCYMO"
      },
      "execution_count": 28,
      "outputs": []
    },
    {
      "cell_type": "code",
      "source": [
        "t0 = time.time()\n",
        "ko2en = bing(txt, from_language='ko', to_language='en')\n",
        "result = bing(ko2en, from_language='en', to_language='ko')\n",
        "print(result)\n",
        "t1 = time.time()\n",
        "print(t1-t0)"
      ],
      "metadata": {
        "colab": {
          "base_uri": "https://localhost:8080/"
        },
        "id": "TFi3k2jnCnVU",
        "outputId": "d300ba8b-d517-42b8-f45a-0647818f3010"
      },
      "execution_count": 29,
      "outputs": [
        {
          "output_type": "stream",
          "name": "stdout",
          "text": [
            "실리콘 밸리 너머... 구글은 미국에 15조 원을 지출한다.\n",
            "1.873802661895752\n"
          ]
        }
      ]
    },
    {
      "cell_type": "code",
      "source": [
        ""
      ],
      "metadata": {
        "id": "HlmxnyLjCpSA"
      },
      "execution_count": 29,
      "outputs": []
    }
  ]
}